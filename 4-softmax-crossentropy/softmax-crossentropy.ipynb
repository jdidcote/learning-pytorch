{
 "cells": [
  {
   "cell_type": "markdown",
   "source": [
    "### Softmax\n",
    "\n",
    "Softmax forces all values into a probability distribution (between 0 and 1 and sum to 1). This can be used for multiclass problems."
   ],
   "metadata": {
    "collapsed": false
   }
  },
  {
   "cell_type": "code",
   "execution_count": 5,
   "metadata": {
    "collapsed": true
   },
   "outputs": [
    {
     "name": "stdout",
     "output_type": "stream",
     "text": [
      "softmax numpy: [0.65900114 0.24243297 0.09856589]\n",
      "softmax torch: tensor([0.6590, 0.2424, 0.0986])\n"
     ]
    }
   ],
   "source": [
    "import torch\n",
    "import torch.nn as nn\n",
    "import numpy as np\n",
    "\n",
    "def softmax(x):\n",
    "    return np.exp(x) / np.sum(np.exp(x), axis=0)\n",
    "\n",
    "x = np.array([2., 1., 0.1])\n",
    "outputs = softmax(x)\n",
    "print('softmax numpy:', outputs)\n",
    "\n",
    "x = torch.tensor([2., 1., 0.1])\n",
    "outputs = torch.softmax(x, dim=0)\n",
    "print('softmax torch:', outputs)"
   ]
  },
  {
   "cell_type": "markdown",
   "source": [
    "### Cross-Entropy\n",
    "\n",
    "Cross-entropy is a loss function which can calculate a loss between some one-hot-encoded y categorical labels, and predicted probabilities for each of these classes."
   ],
   "metadata": {
    "collapsed": false
   }
  },
  {
   "cell_type": "markdown",
   "source": [
    "Using numpy"
   ],
   "metadata": {
    "collapsed": false
   }
  },
  {
   "cell_type": "code",
   "execution_count": 7,
   "outputs": [
    {
     "name": "stdout",
     "output_type": "stream",
     "text": [
      "Loss good: 0.357\n",
      "Loss bad: 2.303\n"
     ]
    }
   ],
   "source": [
    "def cross_entropy(actual, predicted):\n",
    "    return -np.sum(actual * np.log(predicted))\n",
    "\n",
    "# OHE y classes (actuals)\n",
    "y = np.array([1, 0, 0])\n",
    "\n",
    "# Predicted probabilities for the 3 classses\n",
    "y_pred_good = np.array([0.7, 0.2, 0.1])\n",
    "y_pred_bad = np.array([0.1, 0.3, 0.6])\n",
    "\n",
    "loss_good = cross_entropy(y, y_pred_good)\n",
    "loss_bad = cross_entropy(y, y_pred_bad)\n",
    "\n",
    "print(f\"Loss good: {loss_good:.3f}\")\n",
    "print(f\"Loss bad: {loss_bad:.3f}\")"
   ],
   "metadata": {
    "collapsed": false
   }
  },
  {
   "cell_type": "markdown",
   "source": [
    "Pytorch"
   ],
   "metadata": {
    "collapsed": false
   }
  },
  {
   "cell_type": "code",
   "execution_count": 15,
   "outputs": [
    {
     "name": "stdout",
     "output_type": "stream",
     "text": [
      "Loss good: 0.417\n",
      "Loss bad: 1.841\n",
      "tensor([0])\n",
      "tensor([1])\n"
     ]
    }
   ],
   "source": [
    "import torch\n",
    "import torch.nn as nn\n",
    "import numpy as np\n",
    "\n",
    "loss = nn.CrossEntropyLoss()\n",
    "\n",
    "y = torch.tensor([0])\n",
    "\n",
    "y_pred_good = torch.tensor([[2., 1., 0.1]])\n",
    "y_pred_bad = torch.tensor([[.5, 2, 0.3]])\n",
    "\n",
    "loss_good = loss(y_pred_good, y)\n",
    "loss_bad = loss(y_pred_bad, y)\n",
    "\n",
    "print(f\"Loss good: {loss_good.item():.3f}\")\n",
    "print(f\"Loss bad: {loss_bad.item():.3f}\")\n",
    "\n",
    "_, predictions_good = torch.max(y_pred_good, 1)\n",
    "_, predictions_bad = torch.max(y_pred_bad, 1)\n",
    "\n",
    "print(predictions_good)\n",
    "print(predictions_bad)"
   ],
   "metadata": {
    "collapsed": false
   }
  },
  {
   "cell_type": "markdown",
   "source": [
    "Multiclass neural network example"
   ],
   "metadata": {
    "collapsed": false
   }
  },
  {
   "cell_type": "code",
   "execution_count": 16,
   "outputs": [],
   "source": [
    "import torch\n",
    "import torch.nn as nn\n",
    "\n",
    "\n",
    "class Network(nn.Module):\n",
    "    def __init__(self, input_size, hidden_size, num_classes):\n",
    "        super().__init__()\n",
    "        self.l1 = nn.Linear(input_size, hidden_size)\n",
    "        self.relu = nn.ReLU()\n",
    "        self.l2 = nn.Linear(hidden_size, num_classes)\n",
    "\n",
    "    def forward(self, x):\n",
    "        x = self.l1\n",
    "        x = self.relu\n",
    "        x = self.l2\n",
    "        return x\n",
    "\n",
    "model = Network(input_size=28*28, hidden_size=5, num_classes=3)\n",
    "criterion = nn.CrossEntropyLoss()"
   ],
   "metadata": {
    "collapsed": false
   }
  }
 ],
 "metadata": {
  "kernelspec": {
   "display_name": "Python 3",
   "language": "python",
   "name": "python3"
  },
  "language_info": {
   "codemirror_mode": {
    "name": "ipython",
    "version": 2
   },
   "file_extension": ".py",
   "mimetype": "text/x-python",
   "name": "python",
   "nbconvert_exporter": "python",
   "pygments_lexer": "ipython2",
   "version": "2.7.6"
  }
 },
 "nbformat": 4,
 "nbformat_minor": 0
}
